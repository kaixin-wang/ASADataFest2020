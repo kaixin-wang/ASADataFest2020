{
 "cells": [
  {
   "attachments": {},
   "cell_type": "markdown",
   "metadata": {},
   "source": [
    "### Analyzing the relation between COVID-19 and level of PM 2.5\n",
    "\n",
    "Preprocessing the datasets for level of PM2.5 in cities in China\n",
    "\n",
    "UCLA DataFest 2020\n",
    "\n",
    "Team R++: Kaixin Wang (kaixinwang@ucla.edu), Jingyi Lu (rebeccalu99@ucla.edu)"
   ]
  },
  {
   "cell_type": "markdown",
   "metadata": {},
   "source": [
    "In this IPython notebook, we will create two output `csv` files by accessing the data for the level of PM 2.5 in cities in China via the website https://quotsoft.net/air/.\n",
    "\n",
    "At the end of this module, we will generate two output files:\n",
    "\n",
    "- `Cities_China_PM2.5_2019.csv`: daily average level of PM 2.5 in Beijing, Shanghai and Wuhan (01/01/2019 - 12/31/2019)\n",
    "- `Cities_China_PM2.5_2020.csv`: daily average level of PM 2.5 in Beijing, Shanghai and Wuhan (01/01/2020 - 05/01/2020)"
   ]
  },
  {
   "cell_type": "code",
   "execution_count": 1,
   "metadata": {
    "collapsed": true
   },
   "outputs": [],
   "source": [
    "import numpy as np\n",
    "import pandas as pd\n",
    "import requests\n",
    "from datetime import datetime"
   ]
  },
  {
   "cell_type": "markdown",
   "metadata": {},
   "source": [
    "    1. Extract information for dates between 2019/01/01 and 2019/12/31"
   ]
  },
  {
   "cell_type": "markdown",
   "metadata": {},
   "source": [
    "Create a range of dates"
   ]
  },
  {
   "cell_type": "code",
   "execution_count": 2,
   "metadata": {
    "collapsed": true
   },
   "outputs": [],
   "source": [
    "dates_2019 = pd.date_range(start=\"20190101\", end=\"20191231\").tolist()\n",
    "dates_2019 = [str(day.date()) for day in dates_2019]\n",
    "dates_2019 = [datetime.strptime(day, '%Y-%m-%d').strftime('20%y%m%d') for day in dates_2019]"
   ]
  },
  {
   "cell_type": "markdown",
   "metadata": {},
   "source": [
    "Read in the file for each date, and store the average amount of PM 2.5 in a row"
   ]
  },
  {
   "cell_type": "code",
   "execution_count": 3,
   "metadata": {
    "collapsed": true
   },
   "outputs": [],
   "source": [
    "cities_2019 = pd.DataFrame()\n",
    "days_2019 = []\n",
    "for day in dates_2019:\n",
    "    request = requests.get(\"https://quotsoft.net/air/data/china_cities_%s.csv\" %day)\n",
    "    if request.status_code == 200: \n",
    "        df = pd.read_csv(\"https://quotsoft.net/air/data/china_cities_%s.csv\" %day)\n",
    "        df = df.loc[df[\"type\"] == \"PM2.5\", [\"北京\", \"上海\", \"武汉\"]]\n",
    "        df = df.mean(axis = 0)\n",
    "        cities_2019 = cities_2019.append(df, ignore_index = True)\n",
    "        days_2019.append(day)"
   ]
  },
  {
   "cell_type": "markdown",
   "metadata": {},
   "source": [
    "Reformat the dates"
   ]
  },
  {
   "cell_type": "code",
   "execution_count": 4,
   "metadata": {
    "collapsed": true
   },
   "outputs": [],
   "source": [
    "days_2019 = [datetime.strptime(day, \"20%y%m%d\").strftime('%m/%d/20%y') for day in days_2019]"
   ]
  },
  {
   "cell_type": "markdown",
   "metadata": {},
   "source": [
    "Rename the column names of the cities, and insert the days as a column"
   ]
  },
  {
   "cell_type": "code",
   "execution_count": 5,
   "metadata": {
    "collapsed": true
   },
   "outputs": [],
   "source": [
    "cities_2019.columns = [\"Beijing\", \"Shanghai\", \"Wuhan\"]\n",
    "cities_2019[\"Dates\"] = days_2019"
   ]
  },
  {
   "cell_type": "markdown",
   "metadata": {
    "collapsed": true
   },
   "source": [
    "Check if the dataframe is as desired"
   ]
  },
  {
   "cell_type": "code",
   "execution_count": 6,
   "metadata": {},
   "outputs": [
    {
     "data": {
      "text/html": [
       "<div>\n",
       "<style scoped>\n",
       "    .dataframe tbody tr th:only-of-type {\n",
       "        vertical-align: middle;\n",
       "    }\n",
       "\n",
       "    .dataframe tbody tr th {\n",
       "        vertical-align: top;\n",
       "    }\n",
       "\n",
       "    .dataframe thead th {\n",
       "        text-align: right;\n",
       "    }\n",
       "</style>\n",
       "<table border=\"1\" class=\"dataframe\">\n",
       "  <thead>\n",
       "    <tr style=\"text-align: right;\">\n",
       "      <th></th>\n",
       "      <th>Beijing</th>\n",
       "      <th>Shanghai</th>\n",
       "      <th>Wuhan</th>\n",
       "      <th>Dates</th>\n",
       "    </tr>\n",
       "  </thead>\n",
       "  <tbody>\n",
       "    <tr>\n",
       "      <th>0</th>\n",
       "      <td>27.166667</td>\n",
       "      <td>35.500000</td>\n",
       "      <td>44.083333</td>\n",
       "      <td>01/01/2019</td>\n",
       "    </tr>\n",
       "    <tr>\n",
       "      <th>1</th>\n",
       "      <td>63.666667</td>\n",
       "      <td>47.666667</td>\n",
       "      <td>58.625000</td>\n",
       "      <td>01/02/2019</td>\n",
       "    </tr>\n",
       "    <tr>\n",
       "      <th>2</th>\n",
       "      <td>48.666667</td>\n",
       "      <td>123.916667</td>\n",
       "      <td>70.125000</td>\n",
       "      <td>01/03/2019</td>\n",
       "    </tr>\n",
       "    <tr>\n",
       "      <th>3</th>\n",
       "      <td>17.750000</td>\n",
       "      <td>24.500000</td>\n",
       "      <td>91.000000</td>\n",
       "      <td>01/04/2019</td>\n",
       "    </tr>\n",
       "    <tr>\n",
       "      <th>4</th>\n",
       "      <td>31.958333</td>\n",
       "      <td>14.458333</td>\n",
       "      <td>158.916667</td>\n",
       "      <td>01/05/2019</td>\n",
       "    </tr>\n",
       "  </tbody>\n",
       "</table>\n",
       "</div>"
      ],
      "text/plain": [
       "     Beijing    Shanghai       Wuhan       Dates\n",
       "0  27.166667   35.500000   44.083333  01/01/2019\n",
       "1  63.666667   47.666667   58.625000  01/02/2019\n",
       "2  48.666667  123.916667   70.125000  01/03/2019\n",
       "3  17.750000   24.500000   91.000000  01/04/2019\n",
       "4  31.958333   14.458333  158.916667  01/05/2019"
      ]
     },
     "execution_count": 6,
     "metadata": {},
     "output_type": "execute_result"
    }
   ],
   "source": [
    "cities_2019.head()"
   ]
  },
  {
   "cell_type": "markdown",
   "metadata": {
    "collapsed": true
   },
   "source": [
    "Export the dataframe created above to a `csv` file"
   ]
  },
  {
   "cell_type": "code",
   "execution_count": 7,
   "metadata": {
    "collapsed": true
   },
   "outputs": [],
   "source": [
    "cities_2019.to_csv(\"Cities_China_PM2.5_2019.csv\", index = False)"
   ]
  },
  {
   "cell_type": "markdown",
   "metadata": {},
   "source": [
    "    2. Repeat the same procedure for dates between 2020/01/01 and 2020/05/01"
   ]
  },
  {
   "cell_type": "code",
   "execution_count": 8,
   "metadata": {
    "collapsed": true
   },
   "outputs": [],
   "source": [
    "dates_2020 = pd.date_range(start=\"20200101\", end=\"20200501\").tolist()\n",
    "dates_2020 = [str(day.date()) for day in dates_2020]\n",
    "dates_2020 = [datetime.strptime(day, '%Y-%m-%d').strftime('20%y%m%d') for day in dates_2020]"
   ]
  },
  {
   "cell_type": "code",
   "execution_count": 9,
   "metadata": {
    "collapsed": true
   },
   "outputs": [],
   "source": [
    "cities_2020= pd.DataFrame()\n",
    "days_2020 = []\n",
    "for day in dates_2020:\n",
    "    request = requests.get(\"https://quotsoft.net/air/data/china_cities_%s.csv\" %day)\n",
    "    if request.status_code == 200: \n",
    "        df = pd.read_csv(\"https://quotsoft.net/air/data/china_cities_%s.csv\" %day)\n",
    "        df = df.loc[df[\"type\"] == \"PM2.5\", [\"北京\", \"上海\", \"武汉\"]]\n",
    "        df = df.mean(axis = 0)\n",
    "        cities_2020 = cities_2020.append(df, ignore_index = True)\n",
    "        days_2020.append(day)"
   ]
  },
  {
   "cell_type": "code",
   "execution_count": 10,
   "metadata": {
    "collapsed": true
   },
   "outputs": [],
   "source": [
    "days_2020 = [datetime.strptime(day, \"20%y%m%d\").strftime('%m/%d/20%y') for day in days_2020]"
   ]
  },
  {
   "cell_type": "code",
   "execution_count": 11,
   "metadata": {
    "collapsed": true
   },
   "outputs": [],
   "source": [
    "cities_2020.columns = [\"Beijing\", \"Shanghai\", \"Wuhan\"]\n",
    "cities_2020[\"Dates\"] = days_2020"
   ]
  },
  {
   "cell_type": "code",
   "execution_count": 12,
   "metadata": {},
   "outputs": [
    {
     "data": {
      "text/html": [
       "<div>\n",
       "<style scoped>\n",
       "    .dataframe tbody tr th:only-of-type {\n",
       "        vertical-align: middle;\n",
       "    }\n",
       "\n",
       "    .dataframe tbody tr th {\n",
       "        vertical-align: top;\n",
       "    }\n",
       "\n",
       "    .dataframe thead th {\n",
       "        text-align: right;\n",
       "    }\n",
       "</style>\n",
       "<table border=\"1\" class=\"dataframe\">\n",
       "  <thead>\n",
       "    <tr style=\"text-align: right;\">\n",
       "      <th></th>\n",
       "      <th>Beijing</th>\n",
       "      <th>Shanghai</th>\n",
       "      <th>Wuhan</th>\n",
       "      <th>Dates</th>\n",
       "    </tr>\n",
       "  </thead>\n",
       "  <tbody>\n",
       "    <tr>\n",
       "      <th>0</th>\n",
       "      <td>14.208333</td>\n",
       "      <td>33.708333</td>\n",
       "      <td>45.083333</td>\n",
       "      <td>01/01/2020</td>\n",
       "    </tr>\n",
       "    <tr>\n",
       "      <th>1</th>\n",
       "      <td>23.041667</td>\n",
       "      <td>50.875000</td>\n",
       "      <td>78.000000</td>\n",
       "      <td>01/02/2020</td>\n",
       "    </tr>\n",
       "    <tr>\n",
       "      <th>2</th>\n",
       "      <td>39.875000</td>\n",
       "      <td>50.500000</td>\n",
       "      <td>98.875000</td>\n",
       "      <td>01/03/2020</td>\n",
       "    </tr>\n",
       "    <tr>\n",
       "      <th>3</th>\n",
       "      <td>62.833333</td>\n",
       "      <td>42.166667</td>\n",
       "      <td>108.875000</td>\n",
       "      <td>01/04/2020</td>\n",
       "    </tr>\n",
       "    <tr>\n",
       "      <th>4</th>\n",
       "      <td>42.458333</td>\n",
       "      <td>63.708333</td>\n",
       "      <td>61.500000</td>\n",
       "      <td>01/05/2020</td>\n",
       "    </tr>\n",
       "  </tbody>\n",
       "</table>\n",
       "</div>"
      ],
      "text/plain": [
       "     Beijing   Shanghai       Wuhan       Dates\n",
       "0  14.208333  33.708333   45.083333  01/01/2020\n",
       "1  23.041667  50.875000   78.000000  01/02/2020\n",
       "2  39.875000  50.500000   98.875000  01/03/2020\n",
       "3  62.833333  42.166667  108.875000  01/04/2020\n",
       "4  42.458333  63.708333   61.500000  01/05/2020"
      ]
     },
     "execution_count": 12,
     "metadata": {},
     "output_type": "execute_result"
    }
   ],
   "source": [
    "cities_2020.head()"
   ]
  },
  {
   "cell_type": "code",
   "execution_count": 13,
   "metadata": {
    "collapsed": true
   },
   "outputs": [],
   "source": [
    "cities_2020.to_csv(\"Cities_China_PM2.5_2020.csv\", index = False)"
   ]
  }
 ],
 "metadata": {
  "kernelspec": {
   "display_name": "Python [default]",
   "language": "python",
   "name": "python3"
  },
  "language_info": {
   "codemirror_mode": {
    "name": "ipython",
    "version": 3
   },
   "file_extension": ".py",
   "mimetype": "text/x-python",
   "name": "python",
   "nbconvert_exporter": "python",
   "pygments_lexer": "ipython3",
   "version": "3.5.6"
  }
 },
 "nbformat": 4,
 "nbformat_minor": 2
}
